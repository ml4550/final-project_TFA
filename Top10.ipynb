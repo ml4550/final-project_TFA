{
 "cells": [
  {
   "cell_type": "code",
   "execution_count": null,
   "id": "e6a77e2f-abb8-4dce-acd3-f816b08122c8",
   "metadata": {},
   "outputs": [],
   "source": [
    "import pandas as pd\n",
    "import numpy as np"
   ]
  },
  {
   "cell_type": "code",
   "execution_count": null,
   "id": "37443060-e571-4236-816d-7361427f246f",
   "metadata": {},
   "outputs": [],
   "source": [
    "df = pd.read_csv('311_Service_Requests_2020.csv')"
   ]
  },
  {
   "cell_type": "code",
   "execution_count": null,
   "id": "cff6d00a-c518-4a1f-a976-8d2da10d056b",
   "metadata": {},
   "outputs": [],
   "source": [
    "df_10019 = df[df['Incident Zip'] == 10019.0]"
   ]
  },
  {
   "cell_type": "code",
   "execution_count": null,
   "id": "a0a8b9c6-4062-41ab-a19d-7f21b0e67c06",
   "metadata": {},
   "outputs": [],
   "source": [
    "df_10019.sort_values(by = \"Complaint Type\")"
   ]
  },
  {
   "cell_type": "code",
   "execution_count": null,
   "id": "f301261e-dcde-4462-a365-39027dc9f687",
   "metadata": {},
   "outputs": [],
   "source": [
    "top10 = df_10019['Complaint Type'].value_counts().head(10)"
   ]
  },
  {
   "cell_type": "code",
   "execution_count": null,
   "id": "e378c81b-5c53-44f6-bb86-f9b3e67ace01",
   "metadata": {},
   "outputs": [],
   "source": [
    "top10.index.name = 'Complaint Type'"
   ]
  }
 ],
 "metadata": {
  "kernelspec": {
   "display_name": "Python 3",
   "language": "python",
   "name": "python3"
  },
  "language_info": {
   "codemirror_mode": {
    "name": "ipython",
    "version": 3
   },
   "file_extension": ".py",
   "mimetype": "text/x-python",
   "name": "python",
   "nbconvert_exporter": "python",
   "pygments_lexer": "ipython3",
   "version": "3.9.1"
  }
 },
 "nbformat": 4,
 "nbformat_minor": 5
}
