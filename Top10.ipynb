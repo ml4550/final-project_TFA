{
 "cells": [
  {
   "cell_type": "code",
   "execution_count": 1,
   "id": "e6a77e2f-abb8-4dce-acd3-f816b08122c8",
   "metadata": {},
   "outputs": [
    {
     "ename": "ModuleNotFoundError",
     "evalue": "No module named 'pandas'",
     "output_type": "error",
     "traceback": [
      "\u001b[0;31m---------------------------------------------------------------------------\u001b[0m",
      "\u001b[0;31mModuleNotFoundError\u001b[0m                       Traceback (most recent call last)",
      "\u001b[0;32m/var/folders/bh/4lzgyvvj1rq_7p8dxlyg78w00000gn/T/ipykernel_55314/2162656668.py\u001b[0m in \u001b[0;36m<module>\u001b[0;34m\u001b[0m\n\u001b[0;32m----> 1\u001b[0;31m \u001b[0;32mimport\u001b[0m \u001b[0mpandas\u001b[0m \u001b[0;32mas\u001b[0m \u001b[0mpd\u001b[0m\u001b[0;34m\u001b[0m\u001b[0;34m\u001b[0m\u001b[0m\n\u001b[0m\u001b[1;32m      2\u001b[0m \u001b[0;32mimport\u001b[0m \u001b[0mnumpy\u001b[0m \u001b[0;32mas\u001b[0m \u001b[0mnp\u001b[0m\u001b[0;34m\u001b[0m\u001b[0;34m\u001b[0m\u001b[0m\n",
      "\u001b[0;31mModuleNotFoundError\u001b[0m: No module named 'pandas'"
     ]
    }
   ],
   "source": [
    "import pandas as pd\n",
    "import numpy as np"
   ]
  },
  {
   "cell_type": "code",
   "execution_count": null,
   "id": "37443060-e571-4236-816d-7361427f246f",
   "metadata": {},
   "outputs": [
    {
     "name": "stderr",
     "output_type": "stream",
     "text": [
      "/Users/shulufu/opt/anaconda3/lib/python3.8/site-packages/IPython/core/interactiveshell.py:3165: DtypeWarning: Columns (20,31,32) have mixed types.Specify dtype option on import or set low_memory=False.\n",
      "  has_raised = await self.run_ast_nodes(code_ast.body, cell_name,\n"
     ]
    }
   ],
   "source": [
    "df = pd.read_csv('311_Service_Requests_2020.csv')"
   ]
  },
  {
   "cell_type": "code",
   "execution_count": null,
   "id": "cff6d00a-c518-4a1f-a976-8d2da10d056b",
   "metadata": {},
   "outputs": [
    {
     "data": {
      "text/html": [
       "<div>\n",
       "<style scoped>\n",
       "    .dataframe tbody tr th:only-of-type {\n",
       "        vertical-align: middle;\n",
       "    }\n",
       "\n",
       "    .dataframe tbody tr th {\n",
       "        vertical-align: top;\n",
       "    }\n",
       "\n",
       "    .dataframe thead th {\n",
       "        text-align: right;\n",
       "    }\n",
       "</style>\n",
       "<table border=\"1\" class=\"dataframe\">\n",
       "  <thead>\n",
       "    <tr style=\"text-align: right;\">\n",
       "      <th></th>\n",
       "      <th>Complaint Type</th>\n",
       "      <th>Incident Zip</th>\n",
       "    </tr>\n",
       "  </thead>\n",
       "  <tbody>\n",
       "    <tr>\n",
       "      <th>1203</th>\n",
       "      <td>Noise - Commercial</td>\n",
       "      <td>10019.0</td>\n",
       "    </tr>\n",
       "    <tr>\n",
       "      <th>1220</th>\n",
       "      <td>Noise - Street/Sidewalk</td>\n",
       "      <td>10019.0</td>\n",
       "    </tr>\n",
       "    <tr>\n",
       "      <th>1248</th>\n",
       "      <td>Noise - Commercial</td>\n",
       "      <td>10019.0</td>\n",
       "    </tr>\n",
       "    <tr>\n",
       "      <th>1281</th>\n",
       "      <td>Noise - Commercial</td>\n",
       "      <td>10019.0</td>\n",
       "    </tr>\n",
       "    <tr>\n",
       "      <th>1287</th>\n",
       "      <td>Noise - Commercial</td>\n",
       "      <td>10019.0</td>\n",
       "    </tr>\n",
       "    <tr>\n",
       "      <th>...</th>\n",
       "      <td>...</td>\n",
       "      <td>...</td>\n",
       "    </tr>\n",
       "    <tr>\n",
       "      <th>2585520</th>\n",
       "      <td>NonCompliance with Phased Reopening</td>\n",
       "      <td>10019.0</td>\n",
       "    </tr>\n",
       "    <tr>\n",
       "      <th>2585734</th>\n",
       "      <td>Broken Parking Meter</td>\n",
       "      <td>10019.0</td>\n",
       "    </tr>\n",
       "    <tr>\n",
       "      <th>2585741</th>\n",
       "      <td>Broken Parking Meter</td>\n",
       "      <td>10019.0</td>\n",
       "    </tr>\n",
       "    <tr>\n",
       "      <th>2586622</th>\n",
       "      <td>Noise - Commercial</td>\n",
       "      <td>10019.0</td>\n",
       "    </tr>\n",
       "    <tr>\n",
       "      <th>2587215</th>\n",
       "      <td>Noise - Residential</td>\n",
       "      <td>10019.0</td>\n",
       "    </tr>\n",
       "  </tbody>\n",
       "</table>\n",
       "<p>15195 rows × 2 columns</p>\n",
       "</div>"
      ],
      "text/plain": [
       "                              Complaint Type  Incident Zip\n",
       "1203                      Noise - Commercial       10019.0\n",
       "1220                 Noise - Street/Sidewalk       10019.0\n",
       "1248                      Noise - Commercial       10019.0\n",
       "1281                      Noise - Commercial       10019.0\n",
       "1287                      Noise - Commercial       10019.0\n",
       "...                                      ...           ...\n",
       "2585520  NonCompliance with Phased Reopening       10019.0\n",
       "2585734                 Broken Parking Meter       10019.0\n",
       "2585741                 Broken Parking Meter       10019.0\n",
       "2586622                   Noise - Commercial       10019.0\n",
       "2587215                  Noise - Residential       10019.0\n",
       "\n",
       "[15195 rows x 2 columns]"
      ]
     },
     "execution_count": 44,
     "metadata": {},
     "output_type": "execute_result"
    }
   ],
   "source": [
    "df_10019 = df[df['Incident Zip'] == 10019.0]"
   ]
  },
  {
   "cell_type": "code",
   "execution_count": null,
   "id": "a0a8b9c6-4062-41ab-a19d-7f21b0e67c06",
   "metadata": {},
   "outputs": [
    {
     "data": {
      "text/html": [
       "<div>\n",
       "<style scoped>\n",
       "    .dataframe tbody tr th:only-of-type {\n",
       "        vertical-align: middle;\n",
       "    }\n",
       "\n",
       "    .dataframe tbody tr th {\n",
       "        vertical-align: top;\n",
       "    }\n",
       "\n",
       "    .dataframe thead th {\n",
       "        text-align: right;\n",
       "    }\n",
       "</style>\n",
       "<table border=\"1\" class=\"dataframe\">\n",
       "  <thead>\n",
       "    <tr style=\"text-align: right;\">\n",
       "      <th></th>\n",
       "      <th>Complaint Type</th>\n",
       "      <th>Incident Zip</th>\n",
       "    </tr>\n",
       "  </thead>\n",
       "  <tbody>\n",
       "    <tr>\n",
       "      <th>1368051</th>\n",
       "      <td>APPLIANCE</td>\n",
       "      <td>10019.0</td>\n",
       "    </tr>\n",
       "    <tr>\n",
       "      <th>2092826</th>\n",
       "      <td>APPLIANCE</td>\n",
       "      <td>10019.0</td>\n",
       "    </tr>\n",
       "    <tr>\n",
       "      <th>1957508</th>\n",
       "      <td>APPLIANCE</td>\n",
       "      <td>10019.0</td>\n",
       "    </tr>\n",
       "    <tr>\n",
       "      <th>1716425</th>\n",
       "      <td>APPLIANCE</td>\n",
       "      <td>10019.0</td>\n",
       "    </tr>\n",
       "    <tr>\n",
       "      <th>118793</th>\n",
       "      <td>APPLIANCE</td>\n",
       "      <td>10019.0</td>\n",
       "    </tr>\n",
       "    <tr>\n",
       "      <th>...</th>\n",
       "      <td>...</td>\n",
       "      <td>...</td>\n",
       "    </tr>\n",
       "    <tr>\n",
       "      <th>1628621</th>\n",
       "      <td>Water System</td>\n",
       "      <td>10019.0</td>\n",
       "    </tr>\n",
       "    <tr>\n",
       "      <th>641169</th>\n",
       "      <td>Water System</td>\n",
       "      <td>10019.0</td>\n",
       "    </tr>\n",
       "    <tr>\n",
       "      <th>1097166</th>\n",
       "      <td>Water System</td>\n",
       "      <td>10019.0</td>\n",
       "    </tr>\n",
       "    <tr>\n",
       "      <th>65699</th>\n",
       "      <td>Water System</td>\n",
       "      <td>10019.0</td>\n",
       "    </tr>\n",
       "    <tr>\n",
       "      <th>1289617</th>\n",
       "      <td>Water System</td>\n",
       "      <td>10019.0</td>\n",
       "    </tr>\n",
       "  </tbody>\n",
       "</table>\n",
       "<p>15195 rows × 2 columns</p>\n",
       "</div>"
      ],
      "text/plain": [
       "        Complaint Type  Incident Zip\n",
       "1368051      APPLIANCE       10019.0\n",
       "2092826      APPLIANCE       10019.0\n",
       "1957508      APPLIANCE       10019.0\n",
       "1716425      APPLIANCE       10019.0\n",
       "118793       APPLIANCE       10019.0\n",
       "...                ...           ...\n",
       "1628621   Water System       10019.0\n",
       "641169    Water System       10019.0\n",
       "1097166   Water System       10019.0\n",
       "65699     Water System       10019.0\n",
       "1289617   Water System       10019.0\n",
       "\n",
       "[15195 rows x 2 columns]"
      ]
     },
     "execution_count": 45,
     "metadata": {},
     "output_type": "execute_result"
    }
   ],
   "source": [
    "df_10019.sort_values(by = \"Complaint Type\")"
   ]
  },
  {
   "cell_type": "code",
   "execution_count": null,
   "id": "f301261e-dcde-4462-a365-39027dc9f687",
   "metadata": {},
   "outputs": [
    {
     "data": {
      "text/plain": [
       "Noise - Street/Sidewalk                1299\n",
       "Noise - Residential                    1144\n",
       "Homeless Person Assistance             1116\n",
       "Noise                                  1066\n",
       "Illegal Parking                         998\n",
       "HEAT/HOT WATER                          866\n",
       "Noise - Commercial                      811\n",
       "Non-Emergency Police Matter             776\n",
       "Homeless Street Condition               658\n",
       "NonCompliance with Phased Reopening     620\n",
       "Name: Complaint Type, dtype: int64"
      ]
     },
     "execution_count": 58,
     "metadata": {},
     "output_type": "execute_result"
    }
   ],
   "source": [
    "top10 = df_10019['Complaint Type'].value_counts().head(10)"
   ]
  },
  {
   "cell_type": "code",
   "execution_count": null,
   "id": "e378c81b-5c53-44f6-bb86-f9b3e67ace01",
   "metadata": {},
   "outputs": [],
   "source": []
  }
 ],
 "metadata": {
  "kernelspec": {
   "display_name": "Python 3",
   "language": "python",
   "name": "python3"
  },
  "language_info": {
   "codemirror_mode": {
    "name": "ipython",
    "version": 3
   },
   "file_extension": ".py",
   "mimetype": "text/x-python",
   "name": "python",
   "nbconvert_exporter": "python",
   "pygments_lexer": "ipython3",
   "version": "3.9.1"
  }
 },
 "nbformat": 4,
 "nbformat_minor": 5
}
